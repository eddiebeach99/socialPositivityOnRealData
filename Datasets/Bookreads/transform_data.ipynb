{
 "cells": [
  {
   "cell_type": "code",
   "execution_count": 4,
   "metadata": {},
   "outputs": [
    {
     "name": "stdout",
     "output_type": "stream",
     "text": [
      "5645389\n"
     ]
    }
   ],
   "source": [
    "import pandas as pd\n",
    "df = pd.read_csv(\"C:/Users/edwar/SocialPositivityData/GoodreadsData/goodreads_reviews_poetry.csv\")\n",
    "df2 = pd.read_csv(\"C:/Users/edwar/SocialPositivityData/GoodreadsData/goodreads_fantasy.csv\")\n",
    "df3 = pd.read_csv(\"C:/Users/edwar/SocialPositivityData/GoodreadsData/goodreads_history.csv\")\n",
    "print(len(df) + len(df2) + len(df3))\n",
    "# Filter out rows where the rating is 3.0\n",
    "df = df[df['rating'] != 3]\n",
    "df = df[df['rating'] != 0]\n",
    "\n",
    "\n",
    "# Change the rating values based on the conditions\n",
    "df['rating'] = df['rating'].apply(lambda x: 1 if x >= 4.0 else 0)\n"
   ]
  },
  {
   "cell_type": "code",
   "execution_count": 3,
   "metadata": {},
   "outputs": [],
   "source": [
    "average_recommendation = df.groupby('book_id')['rating'].mean().reset_index()\n",
    "average_recommendation.rename(columns={'rating': 'average_recommendation_score'}, inplace=True)\n",
    "\n",
    "df = df.merge(average_recommendation, on='book_id', how='left')\n"
   ]
  },
  {
   "cell_type": "code",
   "execution_count": 4,
   "metadata": {},
   "outputs": [],
   "source": [
    "review_count = df.groupby('book_id').size().reset_index(name='review_count')\n",
    "df = df.merge(review_count, on='book_id', how='left')\n",
    "df = df[df['review_count'] >= 9]\n",
    "\n",
    "rating_variance = df.groupby('book_id')['rating'].var().reset_index(name='rating_variance')\n",
    "df = df.merge(rating_variance, on='book_id', how='left')\n",
    "df = df[df['rating_variance'] >= 0.05]"
   ]
  },
  {
   "cell_type": "code",
   "execution_count": 5,
   "metadata": {},
   "outputs": [
    {
     "name": "stdout",
     "output_type": "stream",
     "text": [
      "2556\n",
      "39853\n"
     ]
    }
   ],
   "source": [
    "df_poor = df[df['average_recommendation_score'] < 0.5]\n",
    "df_rich = df[df['average_recommendation_score'] >= 0.5]\n",
    "print(len(df_poor))\n",
    "print(len(df_rich))"
   ]
  },
  {
   "cell_type": "code",
   "execution_count": 6,
   "metadata": {},
   "outputs": [],
   "source": [
    "df_poor.to_csv('C:/Users/edwar/SocialPositivityData/GoodreadsData/goodreads_poetry_poor.csv', index=False)\n",
    "df_rich.to_csv('C:/Users/edwar/SocialPositivityData/GoodreadsData/goodreads_poetry_rich.csv', index=False)\n"
   ]
  },
  {
   "cell_type": "code",
   "execution_count": 10,
   "metadata": {},
   "outputs": [],
   "source": [
    "# Concatenate\n",
    "df1 = pd.read_csv(\"C:/Users/edwar/SocialPositivityData/GoodreadsData/goodreads_poetry_rich.csv\")\n",
    "df2 = pd.read_csv(\"C:/Users/edwar/SocialPositivityData/GoodreadsData/goodreads_rich.csv\")\n",
    "\n",
    "df_combined = pd.concat([df1, df2], ignore_index=True)\n",
    "\n",
    "df_combined.to_csv(\"C:/Users/edwar/SocialPositivityData/GoodreadsData/goodreads_rich.csv\", index=False)"
   ]
  },
  {
   "cell_type": "code",
   "execution_count": null,
   "metadata": {},
   "outputs": [],
   "source": [
    "import matplotlib.pyplot as plt\n",
    "\n",
    "num_unique_poor = df_poor.nunique().sum()\n",
    "num_unique_rich = df_rich.nunique().sum()\n",
    "\n",
    "categories = ['Poor', 'Rich']\n",
    "values = [num_unique_poor, num_unique_rich]\n",
    "\n",
    "plt.figure(figsize=(6, 4))\n",
    "plt.bar(categories, values, color=['red', 'green'])\n",
    "plt.xlabel(\"Environment\")\n",
    "plt.ylabel(\"Number of products\")\n",
    "plt.title(\"Number of Products in poor and rich environment\")\n",
    "plt.show()"
   ]
  },
  {
   "cell_type": "code",
   "execution_count": null,
   "metadata": {},
   "outputs": [],
   "source": [
    "import seaborn as sns\n",
    "df_poor = pd.read_csv('C:/Users/edwar/OneDrive/Uni/WiSe2024/Laborpraktikum/socialPositivityRealData/Datasets/Amazon/amazon_poor_filtered.csv')\n",
    "asin_avg_score = df_poor.groupby('asin')['average_recommendation_score'].mean().reset_index()\n",
    "\n",
    "# Create the first scatter plot\n",
    "plt.figure(figsize=(10, 5))\n",
    "sns.scatterplot(data=asin_avg_score, x='asin', y='average_recommendation_score', alpha=0.7)\n",
    "plt.xticks([])  # Remove x-axis labels\n",
    "plt.xlabel(\"ASIN\")\n",
    "plt.ylabel(\"Average Recommendation Score\")\n",
    "plt.title(\"Scatter Plot of ASIN vs. Average Recommendation Score (1)\")\n",
    "plt.show()"
   ]
  },
  {
   "cell_type": "code",
   "execution_count": null,
   "metadata": {},
   "outputs": [],
   "source": [
    "\n",
    "df_rich = pd.read_csv('C:/Users/edwar/OneDrive/Uni/WiSe2024/Laborpraktikum/socialPositivityRealData/Datasets/Amazon/amazon_rich.csv')\n",
    "asin_avg_score = df_poor.groupby('asin')['average_recommendation_score'].mean().reset_index()\n",
    "\n",
    "# Create the first scatter plot\n",
    "plt.figure(figsize=(10, 5))\n",
    "sns.scatterplot(data=asin_avg_score, x='asin', y='average_recommendation_score', alpha=0.7)\n",
    "plt.xticks([])  # Remove x-axis labels\n",
    "plt.xlabel(\"ASIN\")\n",
    "plt.ylabel(\"Average Recommendation Score\")\n",
    "plt.title(\"Scatter Plot of ASIN vs. Average Recommendation Score (1)\")\n",
    "plt.show()"
   ]
  }
 ],
 "metadata": {
  "kernelspec": {
   "display_name": "Python 3",
   "language": "python",
   "name": "python3"
  },
  "language_info": {
   "codemirror_mode": {
    "name": "ipython",
    "version": 3
   },
   "file_extension": ".py",
   "mimetype": "text/x-python",
   "name": "python",
   "nbconvert_exporter": "python",
   "pygments_lexer": "ipython3",
   "version": "3.13.0"
  }
 },
 "nbformat": 4,
 "nbformat_minor": 2
}
